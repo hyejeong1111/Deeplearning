{
  "nbformat": 4,
  "nbformat_minor": 0,
  "metadata": {
    "colab": {
      "provenance": [],
      "include_colab_link": true
    },
    "kernelspec": {
      "name": "python3",
      "display_name": "Python 3"
    },
    "language_info": {
      "name": "python"
    },
    "accelerator": "GPU",
    "gpuClass": "standard"
  },
  "cells": [
    {
      "cell_type": "markdown",
      "metadata": {
        "id": "view-in-github",
        "colab_type": "text"
      },
      "source": [
        "<a href=\"https://colab.research.google.com/github/hyejeong1111/Deeplearning/blob/main/keras_%E1%84%80%E1%85%B5%E1%84%87%E1%85%A1%E1%86%AB_CNN%E1%84%8B%E1%85%B3%E1%86%AF_%E1%84%92%E1%85%AA%E1%86%AF%E1%84%8B%E1%85%AD%E1%86%BC%E1%84%92%E1%85%A1%E1%84%8B%E1%85%A7_%E1%84%89%E1%85%A9%E1%86%AB%E1%84%80%E1%85%B3%E1%86%AF%E1%84%8A%E1%85%B5_%E1%84%8B%E1%85%B5%E1%84%86%E1%85%B5%E1%84%8C%E1%85%B5_%E1%84%87%E1%85%AE%E1%86%AB%E1%84%85%E1%85%B2.ipynb\" target=\"_parent\"><img src=\"https://colab.research.google.com/assets/colab-badge.svg\" alt=\"Open In Colab\"/></a>"
      ]
    },
    {
      "cell_type": "markdown",
      "source": [
        "# 연구목표"
      ],
      "metadata": {
        "id": "B4zGkiQELTkd"
      }
    },
    {
      "cell_type": "markdown",
      "source": [
        "- MNIST 손글씨 이미지를 데이터로 사용\n",
        "- 손글씨 이미지를 넣으면 이 이미지가 숫자 몇인지를 예측하는 웹서비스(s/w)\n",
        "- 예측결과\n",
        "  - 이 이미지는 숫자 5입니다.\n",
        "- 예측모델을 딥러닝을 활용\n",
        "- 딥러닝 수행을 위해 다음 조건\n",
        "  - 딥러닝 엔진은 텐서플로우 2.x 기반 케라스를 활용(High level api 활용)\n",
        "  - 필요하면, 조기학습 종료를 수행\n",
        "  - 필요하면, GPU를 이용한 학습 수행"
      ],
      "metadata": {
        "id": "NLCmmx5-Ln5x"
      }
    },
    {
      "cell_type": "code",
      "source": [
        "import tensorflow as tf\n",
        "\n",
        "tf.__version__"
      ],
      "metadata": {
        "colab": {
          "base_uri": "https://localhost:8080/",
          "height": 36
        },
        "id": "AJdtuKQmMWOT",
        "outputId": "c60082c9-2bb4-46a6-efb0-c9b70d615580"
      },
      "execution_count": null,
      "outputs": [
        {
          "output_type": "execute_result",
          "data": {
            "text/plain": [
              "'2.8.2'"
            ],
            "application/vnd.google.colaboratory.intrinsic+json": {
              "type": "string"
            }
          },
          "metadata": {},
          "execution_count": 1
        }
      ]
    },
    {
      "cell_type": "code",
      "source": [
        "# 2017 tensorflow commit 행사에서 공식적으로 포함\n",
        "from tensorflow import keras\n",
        "\n",
        "keras.__version__"
      ],
      "metadata": {
        "colab": {
          "base_uri": "https://localhost:8080/",
          "height": 36
        },
        "id": "Au6xiA6tMkaM",
        "outputId": "ee7630aa-e8c6-4f53-c23d-5613c9b4befa"
      },
      "execution_count": null,
      "outputs": [
        {
          "output_type": "execute_result",
          "data": {
            "text/plain": [
              "'2.8.0'"
            ],
            "application/vnd.google.colaboratory.intrinsic+json": {
              "type": "string"
            }
          },
          "metadata": {},
          "execution_count": 2
        }
      ]
    },
    {
      "cell_type": "code",
      "source": [
        "from tensorflow.keras import backend"
      ],
      "metadata": {
        "id": "kuNUmLiWNS-U"
      },
      "execution_count": null,
      "outputs": []
    },
    {
      "cell_type": "markdown",
      "source": [
        "# 데이터획득"
      ],
      "metadata": {
        "id": "14OIiPeSLTtK"
      }
    },
    {
      "cell_type": "code",
      "source": [
        "from tensorflow.keras.datasets import mnist"
      ],
      "metadata": {
        "id": "QBEBsviVNK8n"
      },
      "execution_count": null,
      "outputs": []
    },
    {
      "cell_type": "code",
      "source": [
        "(X_train, y_train),(X_test, y_test) = mnist.load_data()"
      ],
      "metadata": {
        "colab": {
          "base_uri": "https://localhost:8080/"
        },
        "id": "UqyOvWdINcWe",
        "outputId": "e03f5aec-cd25-4170-974a-27d600757bcd"
      },
      "execution_count": null,
      "outputs": [
        {
          "output_type": "stream",
          "name": "stdout",
          "text": [
            "Downloading data from https://storage.googleapis.com/tensorflow/tf-keras-datasets/mnist.npz\n",
            "11493376/11490434 [==============================] - 0s 0us/step\n",
            "11501568/11490434 [==============================] - 0s 0us/step\n"
          ]
        }
      ]
    },
    {
      "cell_type": "code",
      "source": [
        "X_train.shape, y_train.shape, X_test.shape, y_test.shape\n",
        "# 훈련용 60000, 테스트용 10000\n",
        "# (개수, 높이, 너비)"
      ],
      "metadata": {
        "colab": {
          "base_uri": "https://localhost:8080/"
        },
        "id": "HZVbGEp6NsnN",
        "outputId": "f7087f44-e229-48bb-b50c-86092d512492"
      },
      "execution_count": null,
      "outputs": [
        {
          "output_type": "execute_result",
          "data": {
            "text/plain": [
              "((60000, 28, 28), (60000,), (10000, 28, 28), (10000,))"
            ]
          },
          "metadata": {},
          "execution_count": 6
        }
      ]
    },
    {
      "cell_type": "markdown",
      "source": [
        "# 데이터준비/전처리"
      ],
      "metadata": {
        "id": "CCedCd3uLT0q"
      }
    },
    {
      "cell_type": "markdown",
      "source": [
        "- 엔진별로 이미지 처리시 데이터 처리 포멧이 존재\n",
        "  - NHWC\n",
        "    - (개수:배치사이즈, 높이, 너비, 채널수)\n",
        "    - 텐서플로우\n",
        "  - NCHW\n",
        "    - (개수:배치사이즈, 채널수, 높이, 너비)\n",
        "    - 파이토치"
      ],
      "metadata": {
        "id": "Pj3xNYxDOKk_"
      }
    },
    {
      "cell_type": "code",
      "source": [
        "# 케라스 경우 백엔드를 통해서(실제 엔진을 접근) 포멧을 구한다\n",
        "fmt = backend.image_data_format()\n",
        "fmt\n",
        "# channels_last => NHWC <= 텐서플로우 엔진의 기본 포멧"
      ],
      "metadata": {
        "colab": {
          "base_uri": "https://localhost:8080/",
          "height": 36
        },
        "id": "ZRKLUiziOlYG",
        "outputId": "342b34e8-0ab8-4189-bedb-7e8bc0f5ace2"
      },
      "execution_count": null,
      "outputs": [
        {
          "output_type": "execute_result",
          "data": {
            "text/plain": [
              "'channels_last'"
            ],
            "application/vnd.google.colaboratory.intrinsic+json": {
              "type": "string"
            }
          },
          "metadata": {},
          "execution_count": 7
        }
      ]
    },
    {
      "cell_type": "code",
      "source": [
        "import numpy as np\n",
        "np.max( X_train ), np.min( X_train ), X_train.shape\n",
        "# X_train : 0 ~ 255\n",
        "# 정규화가 필요해 보임 (0~255 => 0~1)"
      ],
      "metadata": {
        "colab": {
          "base_uri": "https://localhost:8080/"
        },
        "id": "VA4NqaEFPERZ",
        "outputId": "2bc527e1-e685-4182-bd59-641d9e2db67d"
      },
      "execution_count": null,
      "outputs": [
        {
          "output_type": "execute_result",
          "data": {
            "text/plain": [
              "(255, 0, (60000, 28, 28))"
            ]
          },
          "metadata": {},
          "execution_count": 8
        }
      ]
    },
    {
      "cell_type": "code",
      "source": [
        "# 정답 : 0 ~ 9 => 원-핫인코딩을 활용 => 0 or 1로 표현 => 0000000001\n",
        "np.unique( y_train )"
      ],
      "metadata": {
        "colab": {
          "base_uri": "https://localhost:8080/"
        },
        "id": "0I02khovPeUb",
        "outputId": "846ec9e2-89d0-420b-a513-ea7e1633b0fe"
      },
      "execution_count": null,
      "outputs": [
        {
          "output_type": "execute_result",
          "data": {
            "text/plain": [
              "array([0, 1, 2, 3, 4, 5, 6, 7, 8, 9], dtype=uint8)"
            ]
          },
          "metadata": {},
          "execution_count": 9
        }
      ]
    },
    {
      "cell_type": "markdown",
      "source": [
        "# 데이터 분석(생략)"
      ],
      "metadata": {
        "id": "Xpa7KVElLT8O"
      }
    },
    {
      "cell_type": "markdown",
      "source": [
        "# 모델구축(딥러닝)"
      ],
      "metadata": {
        "id": "4VtgrAgFLUCS"
      }
    },
    {
      "cell_type": "markdown",
      "source": [
        "- keras로 구현 (CNN), 학습, 예측"
      ],
      "metadata": {
        "id": "NUKzC8L0P7lF"
      }
    },
    {
      "cell_type": "markdown",
      "source": [
        "## 상수 정의"
      ],
      "metadata": {
        "id": "XWCpKNT4WVlu"
      }
    },
    {
      "cell_type": "code",
      "source": [
        "# 1. 상수 정의 (환경변수)\n",
        "# 이미지 관련 정보\n",
        "PIXEL_H       = X_train.shape[ 1 ] # 원본 이미지의 높이 => 28\n",
        "PIXEL_W       = X_train.shape[ 2 ] # 원본 이미지의 너비 => 28\n",
        "PIXEL         = PIXEL_H * PIXEL_W # 원본 이미지의 총 픽셀수 => 총 feature 수 28*28 = 784\n",
        "LABEL_NUM     = len( np.unique( y_train ) ) # 정답의 개수 => 10\n",
        "# 이미지 채널\n",
        "INPUT_CHANNEL = 1 # 원본 이미지가 grayscaled 이미지 이므로 1채널임"
      ],
      "metadata": {
        "id": "4ipHEZWTP6Gw"
      },
      "execution_count": null,
      "outputs": []
    },
    {
      "cell_type": "code",
      "source": [
        "type(X_train)"
      ],
      "metadata": {
        "colab": {
          "base_uri": "https://localhost:8080/"
        },
        "id": "K7w4ahlARqA3",
        "outputId": "afe8ba44-9b95-4913-a62e-d26067b9584d"
      },
      "execution_count": null,
      "outputs": [
        {
          "output_type": "execute_result",
          "data": {
            "text/plain": [
              "numpy.ndarray"
            ]
          },
          "metadata": {},
          "execution_count": 11
        }
      ]
    },
    {
      "cell_type": "markdown",
      "source": [
        "## 데이터 준비 및 전처리"
      ],
      "metadata": {
        "id": "VoIZr9nCWYcU"
      }
    },
    {
      "cell_type": "code",
      "source": [
        "# 2. 이미지 포멧에 따른 원본 데이터 shape, 차원 정리\n",
        "if fmt == 'channels_last': # NHWC\n",
        "  # (60000, 28, 28) => (60000, 28, 28, 1)\n",
        "  # 3D -> 4D\n",
        "  X_train = X_train.reshape( -1, PIXEL_H, PIXEL_W, INPUT_CHANNEL)\n",
        "  X_test  = X_test.reshape( -1, PIXEL_H, PIXEL_W, INPUT_CHANNEL)\n",
        "else: # NCHW\n",
        "  # (60000, 28, 28) => (60000, 1, 28, 28)\n",
        "  X_train = X_train.reshape( -1, INPUT_CHANNEL, PIXEL_H, PIXEL_W)\n",
        "  X_test  = X_test.reshape( -1, INPUT_CHANNEL, PIXEL_H, PIXEL_W)\n",
        "  pass"
      ],
      "metadata": {
        "id": "SCeKLiT-RFL6"
      },
      "execution_count": null,
      "outputs": []
    },
    {
      "cell_type": "code",
      "source": [
        "X_train.shape, X_test.shape"
      ],
      "metadata": {
        "colab": {
          "base_uri": "https://localhost:8080/"
        },
        "id": "R5keWW7LSED-",
        "outputId": "bacf5723-2daa-4495-b1fc-4f64558811ed"
      },
      "execution_count": null,
      "outputs": [
        {
          "output_type": "execute_result",
          "data": {
            "text/plain": [
              "((60000, 28, 28, 1), (10000, 28, 28, 1))"
            ]
          },
          "metadata": {},
          "execution_count": 13
        }
      ]
    },
    {
      "cell_type": "code",
      "source": [
        "# 타입 변환\n",
        "X_train = X_train.astype( 'float32' )\n",
        "X_test  = X_test.astype( 'float32' )\n",
        "\n",
        "# 정규화 수행\n",
        "X_train = X_train / np.max( X_train )\n",
        "X_test  = X_test / np.max( X_test )"
      ],
      "metadata": {
        "id": "-ITUlMkSSQde"
      },
      "execution_count": null,
      "outputs": []
    },
    {
      "cell_type": "code",
      "source": [
        "np.max(X_train), np.min(X_train)"
      ],
      "metadata": {
        "colab": {
          "base_uri": "https://localhost:8080/"
        },
        "id": "-xmKBKcFSsgX",
        "outputId": "891217bd-ca3d-4011-f4ed-9f4a09dc1746"
      },
      "execution_count": null,
      "outputs": [
        {
          "output_type": "execute_result",
          "data": {
            "text/plain": [
              "(1.0, 0.0)"
            ]
          },
          "metadata": {},
          "execution_count": 15
        }
      ]
    },
    {
      "cell_type": "code",
      "source": [
        "# 정답 데이터 원-핫 인코딩 처리 (범주형 데이터등 자연어 처리에서 많이 사용)\n",
        "# 0~9 -> 0000000001 -> 0과 1로 표현을 해서 데이터가 늘어나도 그 정확도가 더 상승하는 요인\n",
        "y_train = keras.utils.to_categorical(y_train, LABEL_NUM )\n",
        "y_test  = keras.utils.to_categorical(y_test, LABEL_NUM )\n",
        "\n",
        "y_train.shape, y_test.shape"
      ],
      "metadata": {
        "colab": {
          "base_uri": "https://localhost:8080/"
        },
        "id": "6fXV7zZ1Ssi7",
        "outputId": "623de340-15a4-4c59-cdc3-c768dbf10880"
      },
      "execution_count": null,
      "outputs": [
        {
          "output_type": "execute_result",
          "data": {
            "text/plain": [
              "((60000, 10), (10000, 10))"
            ]
          },
          "metadata": {},
          "execution_count": 16
        }
      ]
    },
    {
      "cell_type": "code",
      "source": [
        "y_train"
      ],
      "metadata": {
        "colab": {
          "base_uri": "https://localhost:8080/"
        },
        "id": "DtWO1EiyWKHz",
        "outputId": "f55f7d15-96df-4c7a-a302-ff4aa83a647b"
      },
      "execution_count": null,
      "outputs": [
        {
          "output_type": "execute_result",
          "data": {
            "text/plain": [
              "array([[0., 0., 0., ..., 0., 0., 0.],\n",
              "       [1., 0., 0., ..., 0., 0., 0.],\n",
              "       [0., 0., 0., ..., 0., 0., 0.],\n",
              "       ...,\n",
              "       [0., 0., 0., ..., 0., 0., 0.],\n",
              "       [0., 0., 0., ..., 0., 0., 0.],\n",
              "       [0., 0., 0., ..., 0., 1., 0.]], dtype=float32)"
            ]
          },
          "metadata": {},
          "execution_count": 17
        }
      ]
    },
    {
      "cell_type": "markdown",
      "source": [
        "## 신경망 구성"
      ],
      "metadata": {
        "id": "oDJkb81wWcYj"
      }
    },
    {
      "cell_type": "markdown",
      "source": [
        "- 영상 인식에 탁월한 CNN 형태로 네트워크를 구축\n",
        "  - 입력층 + 은닉층(합성곱층, 풀링층,....(반복), 전결합층) + 출력층\n",
        "- 엔진은 텐서플로우 기반 하이 레벨 API인 케라스로 구성"
      ],
      "metadata": {
        "id": "PXGQbz1fWmZy"
      }
    },
    {
      "cell_type": "markdown",
      "source": [
        "\n",
        "\n",
        "```\n",
        "- 입력층\n",
        "- 은닉층\n",
        "  - 합성곱층 1f -> 1채널=> 32채널 확장\n",
        "  - 풀링층 1f -> 이미지 크기가 28=>14로 줄어든다\n",
        "  - 합성곱층 2f -> 32채널=> 64채널 확장\n",
        "  - 풀링층 2f -> 이미지 크기가 14 => 7로 줄어든다\n",
        "  - 전겹합층 -> 3036 -> 1024로 수렴\n",
        "- 출력층 -> 1개 데이터 전체의 정보를 10개의 출력으로 수럼 -> 숫자를 예측함(확률)\n",
        "```\n",
        "\n"
      ],
      "metadata": {
        "id": "Z75RhM-3W7GH"
      }
    },
    {
      "cell_type": "code",
      "source": [
        "from tensorflow.keras import models, layers"
      ],
      "metadata": {
        "id": "cHrBp-_GSslO"
      },
      "execution_count": null,
      "outputs": []
    },
    {
      "cell_type": "code",
      "source": [
        "# 1. 모델 생성(연속적인 형태) -> 이 모델에 레이어를 추가함으로써 신경망을 구성\n",
        "#.                          model.add()\n",
        "model = models.Sequential()"
      ],
      "metadata": {
        "id": "y7n9TegXXfX8"
      },
      "execution_count": null,
      "outputs": []
    },
    {
      "cell_type": "code",
      "source": [
        "if fmt == 'channels_last': # NHWC\n",
        "  # N만 빼고 표현 => layers.Conv2D()에서 그렇게 사용함 (HWC)\n",
        "  input_shape = (PIXEL_H, PIXEL_W, INPUT_CHANNEL)\n",
        "else:\n",
        "  # CHW\n",
        "  input_shape = (INPUT_CHANNEL, PIXEL_H, PIXEL_W)"
      ],
      "metadata": {
        "id": "4o0mBkD7a8rD"
      },
      "execution_count": null,
      "outputs": []
    },
    {
      "cell_type": "code",
      "source": [
        "# 2. 각층 추가\n",
        "# 2-1. 입력층의 데이터 형태를 맞춰서 첫번째 합성곱층에 바로 세팅하며서 진행\n",
        "# 2-2. 합성곱층 1f : 1채널 -> 32채널 (설정) -> 이미지상의 특징 추출->특성맵, 활성화맵\n",
        "model.add( layers.Conv2D(\n",
        "    32,    # 합성곱층을 통과한 데이터의 출력채널수 32 => 쉬운예로 1개의 이미지가 32개로 증폭되었다\n",
        "    (5,5), # (h,w) 커널의 크기, 통상 동일하게 제시\n",
        "    (1,1), # (h,w) 커널의 이동량(양수), 통상 동일하게 제시\n",
        "    'same',# 이미지의 경계선까지 모두 체크하도록 이미지의 바깥쪽을 확장함 <= 보정 <-> valid(유효범위)\n",
        "    activation ='relu',  # 신경망을 더 깊에 구현하기 위해서 데이터를 전체적으로 조정한다=>활성화함수\n",
        "                         # 데이터를 비선형으로 흐트러 놓는 역활도 담당\n",
        "    input_shape=input_shape # 입력 데이터의 형태 -> 엔진따라 달라짐\n",
        ") )\n"
      ],
      "metadata": {
        "id": "6O30FQ5kX40m"
      },
      "execution_count": null,
      "outputs": []
    },
    {
      "cell_type": "code",
      "source": [
        "# 2-3. 풀링층 1f -> 이미지의 특성을 강화, 최대/평균 풀링\n",
        "model.add( layers.MaxPool2D(\n",
        "  pool_size=(2, 2), # 커널의 크기\n",
        "  strides=None,     # 커널이 이동하는 크기, None이면 pool_size와 동일\n",
        "  padding='same'    # 원본과 동일 크기를 추구 -> 스트라이드가 2칸식 이동\n",
        "  # 풀링층을 통과한 이미지는 절반 크기로 줄어든다(채널수는 유지) -> 28 => 14\n",
        " ) )"
      ],
      "metadata": {
        "id": "H6dFtTGEX43C"
      },
      "execution_count": null,
      "outputs": []
    },
    {
      "cell_type": "code",
      "source": [
        "# 2-3-1. 드롭아웃층 -> 원래 CNN의 필수 구성이 아님, 응용 -> 과적합방지층 개입 -> 기본틀에서 응용디자인\n",
        "model.add( layers.Dropout(0.1) ) # 10% 정도 과적합 방지를 위해 개입(방해율 or 학습률)"
      ],
      "metadata": {
        "id": "vzEoyvLXeBcQ"
      },
      "execution_count": null,
      "outputs": []
    },
    {
      "cell_type": "code",
      "source": [
        "# 2-4. 합성곱층 2f\n",
        "model.add( layers.Conv2D(\n",
        "    32*2,\n",
        "    (5,5),\n",
        "    #(1,1), # 기본값이 (1,1)\n",
        "    padding='same',\n",
        "    activation='relu'\n",
        "    ) )"
      ],
      "metadata": {
        "id": "p3NHspMoX45V"
      },
      "execution_count": null,
      "outputs": []
    },
    {
      "cell_type": "code",
      "source": [
        "# 2-5. 풀링층 2f\n",
        "model.add( layers.MaxPool2D(padding='same') )"
      ],
      "metadata": {
        "id": "vn7_4CihX47r"
      },
      "execution_count": null,
      "outputs": []
    },
    {
      "cell_type": "code",
      "source": [
        "model.add( layers.Dropout(0.1) )"
      ],
      "metadata": {
        "id": "wJDvj7rDfXJ9"
      },
      "execution_count": null,
      "outputs": []
    },
    {
      "cell_type": "code",
      "source": [
        "# 2-6. 전결합층 1f -> Falttern, 차원을 펴준다 => 4D => 2D\n",
        "model.add( layers.Flatten() )\n",
        "# 2-6-1 출력에 수렴하기 위해서 조정 -> 특생이 없는 층 -> Dense 활용\n",
        "# 7*7*64 => 1024로 수렴 : 3136 _> 1024\n",
        "model.add( layers.Dense( 1024, activation='relu' ) )"
      ],
      "metadata": {
        "id": "XQRYK8j4X49-"
      },
      "execution_count": null,
      "outputs": []
    },
    {
      "cell_type": "code",
      "source": [
        "# 2-6-1. 드롭아웃층 -> 원래 CNN의 필수 구성이 아님, 응용 -> 과적합방지층 개입\n",
        "model.add( layers.Dropout(0.1) )"
      ],
      "metadata": {
        "id": "Pc-3iWIYfqMq"
      },
      "execution_count": null,
      "outputs": []
    },
    {
      "cell_type": "code",
      "source": [
        "from threading import active_count\n",
        "# 2-7. 출력층 1f : 1024=> 10개에 수렴\n",
        "model.add( layers.Dense(LABEL_NUM, activation='softmax' ) )"
      ],
      "metadata": {
        "id": "JI2_xhDEgBG5"
      },
      "execution_count": null,
      "outputs": []
    },
    {
      "cell_type": "markdown",
      "source": [
        "## 컴파일 환경구성\n",
        "\n",
        "- 손실함수, 최적화, 예측/평가 수행"
      ],
      "metadata": {
        "id": "YMNznYzehAwT"
      }
    },
    {
      "cell_type": "code",
      "source": [
        "model.compile(\n",
        "  optimizer = 'rmsprop', # 최적화 도구, adam, sgd, 모멘텀,..경사하강법등등,,,\n",
        "  # 손실함수 -> 잘 훈련되었는지 판단하는 잣대(실제값, 예측값의 오차를 기준), 분류값이 10개\n",
        "  loss      = keras.losses.categorical_crossentropy,\n",
        "  # 평가도구\n",
        "  metrics   = ['accuracy']\n",
        ")"
      ],
      "metadata": {
        "id": "N_jeXrwok_a9"
      },
      "execution_count": null,
      "outputs": []
    },
    {
      "cell_type": "markdown",
      "source": [
        "## 학습(fit or train)"
      ],
      "metadata": {
        "id": "O6vDHLo-mRfx"
      }
    },
    {
      "cell_type": "markdown",
      "source": [
        "- 실시간 관점\n",
        "  - 온라인 학습\n",
        "    - 실시간적으로 학습 -> 결과를 서비스에 반영\n",
        "      - 빠르 피드백, 리스크 존재\n",
        "  - 오프라인 학습\n",
        "    - 모델 업데이트시 시스템 셧다운후 반영\n",
        "- 학습 데이터 관점\n",
        "  - 배치학습\n",
        "    - 데이터 전체를 통으로 넣어서 학습\n",
        "      - GPU로 학습시 GPU 메모리가 충분할때 가능\n",
        "  - 미니배치학습\n",
        "    - 하드웨어 사양을 고려, 데이터르 쪼개서 학습\n",
        "    - 장점, 학습 횟수 증가\n",
        "    - 단점, 시간이 오래 걸림, 적절한 크기는 잘 찾아야함\n",
        "  \n",
        "- 전이학습\n",
        "  - 이미 사전에 학습된 모델(특정 데이터형태를 잘 예측할수 있는 신경망과 가중치를 가지고 있다)을 활용\n",
        "    - 세대별로 전달하는 의미, 계승 발전하는 의미\n",
        "  - **파인튜닝**을 활용하여 사전에 학습한 가중치를 그대로 활용 계승 발전시킴\n",
        "  "
      ],
      "metadata": {
        "id": "B88scfiTmaA-"
      }
    },
    {
      "cell_type": "markdown",
      "source": [
        "- 용어\n",
        "  - epoch(에폭, 이폭)\n",
        "    - 세대학습\n",
        "    - 1 epoch => 1세대 학습\n",
        "    - 25 epoch => 전체 데이터를 총 25번 풀로 학습에 활용했다\n",
        "  - batch_size\n",
        "    - 1회 학습시 사용한 데이터량"
      ],
      "metadata": {
        "id": "QPSeeB7Vn8YQ"
      }
    },
    {
      "cell_type": "code",
      "source": [
        "EPOCH = 10       # 10세대 학습(전체 데이터를 조합을 다르게 하여 10회 진행), 조정가능\n",
        "BATCH_SIZE = 128 # 1회 학습시 사용할 데이터량(조정가능)"
      ],
      "metadata": {
        "id": "VkBsUwolmZhj"
      },
      "execution_count": null,
      "outputs": []
    },
    {
      "cell_type": "markdown",
      "source": [
        "## CPU 학습\n",
        "\n",
        "- 안정적이다. 오래걸린다"
      ],
      "metadata": {
        "id": "IYxfOx2FowWW"
      }
    },
    {
      "cell_type": "code",
      "source": [
        "from tensorflow.keras.callbacks import EarlyStopping\n",
        "if 0:\n",
        "  model.fit(\n",
        "    X_train,\n",
        "    y_train,\n",
        "    batch_size = BATCH_SIZE,\n",
        "    epochs=EPOCH,\n",
        "    validation_split=0.2 # 20%는 검증용으로 사용\n",
        "  )\n",
        "  # 검증용 데이터 => 과적합, 과소적합을 방지\n",
        "  # 테스트용 데이터 => 성능을 평가용\n",
        "  # 60000*0.8/128 => 375\n",
        "  # 1세대 학습에서 검증이 98%, 텍스트 94% => 훈련 부족\n",
        "  # 2세대에서 만약 98%까지 수렴햇다면, 더이상 변동이 없다면 => 조기학습종료 발동걸어야함\n",
        "  # 학습 속도를 더 높일 필요가 있다 => GPU\n",
        "else:\n",
        "  early_stop = EarlyStopping()\n",
        "  # GPU\n",
        "  with tf.device('/device:GPU:0'):\n",
        "    hist = model.fit(\n",
        "      X_train,\n",
        "      y_train,\n",
        "      batch_size = BATCH_SIZE,\n",
        "      epochs=EPOCH,\n",
        "      validation_split=0.2, # 20%는 검증용으로 사용\n",
        "      callbacks=[ early_stop ] # 더이상의 변동이 없을 경우 학습 조기 종료시킴\n",
        "    )\n",
        "    # 143s -> 15s\n",
        "    # 2세대 학습에서 3s만에 조기 학습 종료가 되었다(더이상의 훈련은 무의미하다)"
      ],
      "metadata": {
        "colab": {
          "base_uri": "https://localhost:8080/"
        },
        "id": "_eJt2EPVo04h",
        "outputId": "1dded00f-2700-46af-8aa6-5f310c1ae3bb"
      },
      "execution_count": null,
      "outputs": [
        {
          "output_type": "stream",
          "name": "stdout",
          "text": [
            "Epoch 1/10\n",
            "375/375 [==============================] - 15s 10ms/step - loss: 0.1710 - accuracy: 0.9474 - val_loss: 0.0450 - val_accuracy: 0.9862\n",
            "Epoch 2/10\n",
            "375/375 [==============================] - 3s 9ms/step - loss: 0.0454 - accuracy: 0.9856 - val_loss: 0.0353 - val_accuracy: 0.9898\n"
          ]
        }
      ]
    },
    {
      "cell_type": "markdown",
      "source": [
        "## GPU 학습\n",
        "\n",
        "- 간혹 불안정적이기도 하다. 빠르 수행속도 ->위에서 구현"
      ],
      "metadata": {
        "id": "DNZWHB0SowZm"
      }
    },
    {
      "cell_type": "markdown",
      "source": [
        "## 예측"
      ],
      "metadata": {
        "id": "rZkEWUfishyE"
      }
    },
    {
      "cell_type": "code",
      "source": [
        "# 예측\n",
        "model.evaluate( X_test, y_test )\n",
        "# 손실 0.029\n",
        "# 정확도 99%"
      ],
      "metadata": {
        "colab": {
          "base_uri": "https://localhost:8080/"
        },
        "id": "V7r1X4Jdsjx5",
        "outputId": "ca933edf-d864-4f03-addd-4b489b334dbd"
      },
      "execution_count": null,
      "outputs": [
        {
          "output_type": "stream",
          "name": "stdout",
          "text": [
            "313/313 [==============================] - 1s 4ms/step - loss: 0.0290 - accuracy: 0.9900\n"
          ]
        },
        {
          "output_type": "execute_result",
          "data": {
            "text/plain": [
              "[0.029017992317676544, 0.9900000095367432]"
            ]
          },
          "metadata": {},
          "execution_count": 34
        }
      ]
    },
    {
      "cell_type": "markdown",
      "source": [
        "## 훈련 결과 시각화"
      ],
      "metadata": {
        "id": "1LSB0yP7scv2"
      }
    },
    {
      "cell_type": "code",
      "source": [
        "import matplotlib.pyplot as plt\n",
        "%matplotlib inline"
      ],
      "metadata": {
        "id": "I-tg5lFeseqQ"
      },
      "execution_count": null,
      "outputs": []
    },
    {
      "cell_type": "code",
      "source": [
        "hist.history\n",
        "# 2세대 조기학습 종료가 되어서 데이터가 별로 없다(내열)"
      ],
      "metadata": {
        "colab": {
          "base_uri": "https://localhost:8080/"
        },
        "id": "Yh8CTwiUsetJ",
        "outputId": "79e45c9a-5e18-47c7-80e1-c04884a337ca"
      },
      "execution_count": null,
      "outputs": [
        {
          "output_type": "execute_result",
          "data": {
            "text/plain": [
              "{'accuracy': [0.9473541378974915, 0.9855833053588867],\n",
              " 'loss': [0.17103616893291473, 0.045365866273641586],\n",
              " 'val_accuracy': [0.9862499833106995, 0.9898333549499512],\n",
              " 'val_loss': [0.04495491459965706, 0.03534487262368202]}"
            ]
          },
          "metadata": {},
          "execution_count": 36
        }
      ]
    },
    {
      "cell_type": "code",
      "source": [
        "fig, ax = plt.subplots()\n",
        "\n",
        "# x축을 공통으로 사용하기 위해서, y는 왼쪽, 오른쪽 별도로 사용\n",
        "# 왼쪽 : loss, 오른쪽 : acc\n",
        "acc_ax = ax.twinx()\n",
        "\n",
        "ax.plot( hist.history['loss'], 'y', label='train_loss')\n",
        "ax.plot( hist.history['val_loss'], 'r', label='val_loss')\n",
        "\n",
        "acc_ax.plot(hist.history['accuracy'], 'g', label='train_acc')\n",
        "acc_ax.plot(hist.history['val_accuracy'], 'b', label='val_acc')\n",
        "\n",
        "ax.set_xlabel('epoch')\n",
        "ax.set_ylabel('loss')\n",
        "acc_ax.set_ylabel('acc')\n",
        "\n",
        "ax.legend()\n",
        "acc_ax.legend()\n",
        "\n",
        "plt.show()"
      ],
      "metadata": {
        "colab": {
          "base_uri": "https://localhost:8080/",
          "height": 279
        },
        "id": "VFlqYp5isev7",
        "outputId": "5dfc02c7-f392-4b36-aa88-65adbdbc1277"
      },
      "execution_count": null,
      "outputs": [
        {
          "output_type": "display_data",
          "data": {
            "text/plain": [
              "<Figure size 432x288 with 2 Axes>"
            ],
            "image/png": "[encoded data removed]"
          },
          "metadata": {
            "needs_background": "light"
          }
        }
      ]
    },
    {
      "cell_type": "markdown",
      "source": [
        "# 산출물/시스템통합 (웹)"
      ],
      "metadata": {
        "id": "lFbaB-vFLUHI"
      }
    },
    {
      "cell_type": "markdown",
      "source": [
        "- 모델 덤프\n",
        "  - 학습된 모델을 파일로 저장하여 제공\n",
        "  - 학습된 가중치, 편향값, 신경망의 구조"
      ],
      "metadata": {
        "id": "AqAd6V7oxPh8"
      }
    },
    {
      "cell_type": "code",
      "source": [
        "# 저장 (신경망구조 + 가중치)\n",
        "# 가중치나 모델을 저장할때 사용하는 확장자는 엔진별로 다르다\n",
        "# 최근 MS에서 통합형 포멧을 제공\n",
        "model.save('mnist_cnn.h5')"
      ],
      "metadata": {
        "id": "Vu4mLq_gga0h"
      },
      "execution_count": null,
      "outputs": []
    },
    {
      "cell_type": "code",
      "source": [
        "# 불러오기\n",
        "loadedModel = models.load_model('mnist_cnn.h5')"
      ],
      "metadata": {
        "id": "H-ysj4I6gbLH"
      },
      "execution_count": null,
      "outputs": []
    },
    {
      "cell_type": "code",
      "source": [
        "# 테스트 데이터로 확인\n",
        "loadedModel.evaluate( X_test, y_test )"
      ],
      "metadata": {
        "colab": {
          "base_uri": "https://localhost:8080/"
        },
        "id": "kgMEtzsDyOda",
        "outputId": "34e6f50f-5a34-4c73-8fd0-15a0a1d4ec34"
      },
      "execution_count": null,
      "outputs": [
        {
          "output_type": "stream",
          "name": "stdout",
          "text": [
            "313/313 [==============================] - 1s 3ms/step - loss: 0.0290 - accuracy: 0.9900\n"
          ]
        },
        {
          "output_type": "execute_result",
          "data": {
            "text/plain": [
              "[0.029017992317676544, 0.9900000095367432]"
            ]
          },
          "metadata": {},
          "execution_count": 41
        }
      ]
    },
    {
      "cell_type": "code",
      "source": [
        "X_test.shape, y_test.shape"
      ],
      "metadata": {
        "colab": {
          "base_uri": "https://localhost:8080/"
        },
        "id": "Awg597-I1XN8",
        "outputId": "fa3976a0-b5d5-4f90-c163-439b80bb4b21"
      },
      "execution_count": null,
      "outputs": [
        {
          "output_type": "execute_result",
          "data": {
            "text/plain": [
              "((10000, 28, 28, 1), (10000, 10))"
            ]
          },
          "metadata": {},
          "execution_count": 50
        }
      ]
    },
    {
      "cell_type": "code",
      "source": [
        "# 실제 이미지 파일을 이용하여 예측 수행\n",
        "# /content/drive/MyDrive/고려대_AI개발을위한머신러닝딥러닝활용과정/학생용/test.pgm"
      ],
      "metadata": {
        "id": "ndD0NbfRyUPH"
      },
      "execution_count": null,
      "outputs": []
    },
    {
      "cell_type": "markdown",
      "source": [
        "- pgm 파일을 읽어서 예측\n",
        "  - 파일 오픈 및 읽기\n",
        "  - 전처리\n",
        "  - 정규화\n",
        "  - 엔진형태에 맞게 포멧 변환\n",
        "  - 예측\n",
        "\n",
        "\n",
        "\n",
        "```\n",
        "P2 28 28 255 <= 매직코드, pgm 시그니처 코드\n",
        "---------------(아래 부분이 픽셀 정보)\n",
        "0 0 0 0 0 0 0 0 0 0 0 0 0 0 0 0 0 0 0 0 0 0 0 0 0 0 0 0 0 0 0 0 0 0 0 0 0 0 0 0 0 0 0 0 0 0 0 0 0 0 0 0 0 0 0 0 0 0 0 0 0 0 0 0 0 0 0 0 0 0 ....\n",
        "```\n",
        "\n"
      ],
      "metadata": {
        "id": "R9k_918py9uN"
      }
    },
    {
      "cell_type": "code",
      "source": [
        "# 1. 파일오픈및 데이터 로드\n",
        "filePath = '/content/drive/MyDrive/고려대_AI개발을위한머신러닝딥러닝활용과정/학생용/test.pgm'\n",
        "with open(filePath, 'r', encoding='utf-8') as fp:\n",
        "  datas = fp.readlines()\n",
        "\n",
        "datas"
      ],
      "metadata": {
        "colab": {
          "base_uri": "https://localhost:8080/"
        },
        "id": "rsP82ZmtzdJz",
        "outputId": "e9ead6e7-a2eb-4f51-c4c8-acc4053f4c35"
      },
      "execution_count": null,
      "outputs": [
        {
          "output_type": "execute_result",
          "data": {
            "text/plain": [
              "['P2 28 28 255\\n',\n",
              " '0 0 0 0 0 0 0 0 0 0 0 0 0 0 0 0 0 0 0 0 0 0 0 0 0 0 0 0 0 0 0 0 0 0 0 0 0 0 0 0 0 0 0 0 0 0 0 0 0 0 0 0 0 0 0 0 0 0 0 0 0 0 0 0 0 0 0 0 0 0 0 0 0 0 0 0 0 0 0 0 0 0 0 0 0 0 0 0 0 0 0 0 0 0 0 0 0 0 0 0 0 0 0 0 0 0 0 0 0 0 0 0 0 0 0 0 0 0 0 0 0 0 0 0 0 0 0 0 0 0 0 0 0 0 0 0 0 0 0 0 0 0 0 0 0 0 0 0 0 0 0 0 0 0 0 0 0 0 0 0 0 0 0 0 0 0 0 0 0 0 0 0 0 0 0 0 0 0 0 0 0 0 0 0 0 0 0 0 0 0 0 0 0 0 0 0 0 0 0 0 0 0 84 185 159 151 60 36 0 0 0 0 0 0 0 0 0 0 0 0 0 0 0 0 0 0 0 0 0 0 222 254 254 254 254 241 198 198 198 198 198 198 198 198 170 52 0 0 0 0 0 0 0 0 0 0 0 0 67 114 72 114 163 227 254 225 254 254 254 250 229 254 254 140 0 0 0 0 0 0 0 0 0 0 0 0 0 0 0 0 0 17 66 14 67 67 67 59 21 236 254 106 0 0 0 0 0 0 0 0 0 0 0 0 0 0 0 0 0 0 0 0 0 0 0 0 83 253 209 18 0 0 0 0 0 0 0 0 0 0 0 0 0 0 0 0 0 0 0 0 0 0 0 22 233 255 83 0 0 0 0 0 0 0 0 0 0 0 0 0 0 0 0 0 0 0 0 0 0 0 0 129 254 238 44 0 0 0 0 0 0 0 0 0 0 0 0 0 0 0 0 0 0 0 0 0 0 0 59 249 254 62 0 0 0 0 0 0 0 0 0 0 0 0 0 0 0 0 0 0 0 0 0 0 0 0 133 254 187 5 0 0 0 0 0 0 0 0 0 0 0 0 0 0 0 0 0 0 0 0 0 0 0 9 205 248 58 0 0 0 0 0 0 0 0 0 0 0 0 0 0 0 0 0 0 0 0 0 0 0 0 126 254 182 0 0 0 0 0 0 0 0 0 0 0 0 0 0 0 0 0 0 0 0 0 0 0 0 75 251 240 57 0 0 0 0 0 0 0 0 0 0 0 0 0 0 0 0 0 0 0 0 0 0 0 19 221 254 166 0 0 0 0 0 0 0 0 0 0 0 0 0 0 0 0 0 0 0 0 0 0 0 3 203 254 219 35 0 0 0 0 0 0 0 0 0 0 0 0 0 0 0 0 0 0 0 0 0 0 0 38 254 254 77 0 0 0 0 0 0 0 0 0 0 0 0 0 0 0 0 0 0 0 0 0 0 0 31 224 254 115 1 0 0 0 0 0 0 0 0 0 0 0 0 0 0 0 0 0 0 0 0 0 0 0 133 254 254 52 0 0 0 0 0 0 0 0 0 0 0 0 0 0 0 0 0 0 0 0 0 0 0 61 242 254 254 52 0 0 0 0 0 0 0 0 0 0 0 0 0 0 0 0 0 0 0 0 0 0 0 121 254 254 219 40 0 0 0 0 0 0 0 0 0 0 0 0 0 0 0 0 0 0 0 0 0 0 0 121 254 207 18 0 0 0 0 0 0 0 0 0 0 0 0 0 0 0 0 0 0 0 0 0 0 0 0 0 0 0 0 0 0 0 0 0 0 0 0 0 0 0 0 0 0']"
            ]
          },
          "metadata": {},
          "execution_count": 42
        }
      ]
    },
    {
      "cell_type": "code",
      "source": [
        "# 0:매짃코드, 1:픽셀 데이터\n",
        "len(datas)"
      ],
      "metadata": {
        "colab": {
          "base_uri": "https://localhost:8080/"
        },
        "id": "ugmqJt9Lz2YV",
        "outputId": "ae493c29-e352-47e1-a0f3-55ebd3efa44e"
      },
      "execution_count": null,
      "outputs": [
        {
          "output_type": "execute_result",
          "data": {
            "text/plain": [
              "2"
            ]
          },
          "metadata": {},
          "execution_count": 43
        }
      ]
    },
    {
      "cell_type": "code",
      "source": [
        "# 실제 픽셀 데이터 구간 (784 -> 28x28)\n",
        "datas[1]"
      ],
      "metadata": {
        "colab": {
          "base_uri": "https://localhost:8080/",
          "height": 157
        },
        "id": "_ZylBMkoz5FJ",
        "outputId": "8d17f12b-6f72-4925-a9f1-6f5675378bd1"
      },
      "execution_count": null,
      "outputs": [
        {
          "output_type": "execute_result",
          "data": {
            "text/plain": [
              "'0 0 0 0 0 0 0 0 0 0 0 0 0 0 0 0 0 0 0 0 0 0 0 0 0 0 0 0 0 0 0 0 0 0 0 0 0 0 0 0 0 0 0 0 0 0 0 0 0 0 0 0 0 0 0 0 0 0 0 0 0 0 0 0 0 0 0 0 0 0 0 0 0 0 0 0 0 0 0 0 0 0 0 0 0 0 0 0 0 0 0 0 0 0 0 0 0 0 0 0 0 0 0 0 0 0 0 0 0 0 0 0 0 0 0 0 0 0 0 0 0 0 0 0 0 0 0 0 0 0 0 0 0 0 0 0 0 0 0 0 0 0 0 0 0 0 0 0 0 0 0 0 0 0 0 0 0 0 0 0 0 0 0 0 0 0 0 0 0 0 0 0 0 0 0 0 0 0 0 0 0 0 0 0 0 0 0 0 0 0 0 0 0 0 0 0 0 0 0 0 0 0 84 185 159 151 60 36 0 0 0 0 0 0 0 0 0 0 0 0 0 0 0 0 0 0 0 0 0 0 222 254 254 254 254 241 198 198 198 198 198 198 198 198 170 52 0 0 0 0 0 0 0 0 0 0 0 0 67 114 72 114 163 227 254 225 254 254 254 250 229 254 254 140 0 0 0 0 0 0 0 0 0 0 0 0 0 0 0 0 0 17 66 14 67 67 67 59 21 236 254 106 0 0 0 0 0 0 0 0 0 0 0 0 0 0 0 0 0 0 0 0 0 0 0 0 83 253 209 18 0 0 0 0 0 0 0 0 0 0 0 0 0 0 0 0 0 0 0 0 0 0 0 22 233 255 83 0 0 0 0 0 0 0 0 0 0 0 0 0 0 0 0 0 0 0 0 0 0 0 0 129 254 238 44 0 0 0 0 0 0 0 0 0 0 0 0 0 0 0 0 0 0 0 0 0 0 0 59 249 254 62 0 0 0 0 0 0 0 0 0 0 0 0 0 0 0 0 0 0 0 0 0 0 0 0 133 254 187 5 0 0 0 0 0 0 0 0 0 0 0 0 0 0 0 0 0 0 0 0 0 0 0 9 205 248 58 0 0 0 0 0 0 0 0 0 0 0 0 0 0 0 0 0 0 0 0 0 0 0 0 126 254 182 0 0 0 0 0 0 0 0 0 0 0 0 0 0 0 0 0 0 0 0 0 0 0 0 75 251 240 57 0 0 0 0 0 0 0 0 0 0 0 0 0 0 0 0 0 0 0 0 0 0 0 19 221 254 166 0 0 0 0 0 0 0 0 0 0 0 0 0 0 0 0 0 0 0 0 0 0 0 3 203 254 219 35 0 0 0 0 0 0 0 0 0 0 0 0 0 0 0 0 0 0 0 0 0 0 0 38 254 254 77 0 0 0 0 0 0 0 0 0 0 0 0 0 0 0 0 0 0 0 0 0 0 0 31 224 254 115 1 0 0 0 0 0 0 0 0 0 0 0 0 0 0 0 0 0 0 0 0 0 0 0 133 254 254 52 0 0 0 0 0 0 0 0 0 0 0 0 0 0 0 0 0 0 0 0 0 0 0 61 242 254 254 52 0 0 0 0 0 0 0 0 0 0 0 0 0 0 0 0 0 0 0 0 0 0 0 121 254 254 219 40 0 0 0 0 0 0 0 0 0 0 0 0 0 0 0 0 0 0 0 0 0 0 0 121 254 207 18 0 0 0 0 0 0 0 0 0 0 0 0 0 0 0 0 0 0 0 0 0 0 0 0 0 0 0 0 0 0 0 0 0 0 0 0 0 0 0 0 0 0'"
            ],
            "application/vnd.google.colaboratory.intrinsic+json": {
              "type": "string"
            }
          },
          "metadata": {},
          "execution_count": 44
        }
      ]
    },
    {
      "cell_type": "code",
      "source": [
        "# 공백구분자 기반 분해\n",
        "raws = datas[1].split()\n",
        "len(raws)"
      ],
      "metadata": {
        "colab": {
          "base_uri": "https://localhost:8080/"
        },
        "id": "Wn_J-Sm9z9YK",
        "outputId": "b8d913a1-b85f-4e33-f7fa-e73308019aa7"
      },
      "execution_count": null,
      "outputs": [
        {
          "output_type": "execute_result",
          "data": {
            "text/plain": [
              "784"
            ]
          },
          "metadata": {},
          "execution_count": 45
        }
      ]
    },
    {
      "cell_type": "code",
      "source": [
        "# 데이터는 배열 형태\n",
        "nums = np.array( raws, dtype=np.float32 )/ 255.\n",
        "nums"
      ],
      "metadata": {
        "colab": {
          "base_uri": "https://localhost:8080/"
        },
        "id": "IkSTScAH0OUv",
        "outputId": "c7dc2399-d2ab-4246-eda0-7eec7928121c"
      },
      "execution_count": null,
      "outputs": [
        {
          "output_type": "execute_result",
          "data": {
            "text/plain": [
              "array([0.        , 0.        , 0.        , 0.        , 0.        ,\n",
              "       0.        , 0.        , 0.        , 0.        , 0.        ,\n",
              "       0.        , 0.        , 0.        , 0.        , 0.        ,\n",
              "       0.        , 0.        , 0.        , 0.        , 0.        ,\n",
              "       0.        , 0.        , 0.        , 0.        , 0.        ,\n",
              "       0.        , 0.        , 0.        , 0.        , 0.        ,\n",
              "       0.        , 0.        , 0.        , 0.        , 0.        ,\n",
              "       0.        , 0.        , 0.        , 0.        , 0.        ,\n",
              "       0.        , 0.        , 0.        , 0.        , 0.        ,\n",
              "       0.        , 0.        , 0.        , 0.        , 0.        ,\n",
              "       0.        , 0.        , 0.        , 0.        , 0.        ,\n",
              "       0.        , 0.        , 0.        , 0.        , 0.        ,\n",
              "       0.        , 0.        , 0.        , 0.        , 0.        ,\n",
              "       0.        , 0.        , 0.        , 0.        , 0.        ,\n",
              "       0.        , 0.        , 0.        , 0.        , 0.        ,\n",
              "       0.        , 0.        , 0.        , 0.        , 0.        ,\n",
              "       0.        , 0.        , 0.        , 0.        , 0.        ,\n",
              "       0.        , 0.        , 0.        , 0.        , 0.        ,\n",
              "       0.        , 0.        , 0.        , 0.        , 0.        ,\n",
              "       0.        , 0.        , 0.        , 0.        , 0.        ,\n",
              "       0.        , 0.        , 0.        , 0.        , 0.        ,\n",
              "       0.        , 0.        , 0.        , 0.        , 0.        ,\n",
              "       0.        , 0.        , 0.        , 0.        , 0.        ,\n",
              "       0.        , 0.        , 0.        , 0.        , 0.        ,\n",
              "       0.        , 0.        , 0.        , 0.        , 0.        ,\n",
              "       0.        , 0.        , 0.        , 0.        , 0.        ,\n",
              "       0.        , 0.        , 0.        , 0.        , 0.        ,\n",
              "       0.        , 0.        , 0.        , 0.        , 0.        ,\n",
              "       0.        , 0.        , 0.        , 0.        , 0.        ,\n",
              "       0.        , 0.        , 0.        , 0.        , 0.        ,\n",
              "       0.        , 0.        , 0.        , 0.        , 0.        ,\n",
              "       0.        , 0.        , 0.        , 0.        , 0.        ,\n",
              "       0.        , 0.        , 0.        , 0.        , 0.        ,\n",
              "       0.        , 0.        , 0.        , 0.        , 0.        ,\n",
              "       0.        , 0.        , 0.        , 0.        , 0.        ,\n",
              "       0.        , 0.        , 0.        , 0.        , 0.        ,\n",
              "       0.        , 0.        , 0.        , 0.        , 0.        ,\n",
              "       0.        , 0.        , 0.        , 0.        , 0.        ,\n",
              "       0.        , 0.        , 0.        , 0.        , 0.        ,\n",
              "       0.        , 0.        , 0.        , 0.        , 0.        ,\n",
              "       0.        , 0.        , 0.32941177, 0.7254902 , 0.62352943,\n",
              "       0.5921569 , 0.23529412, 0.14117648, 0.        , 0.        ,\n",
              "       0.        , 0.        , 0.        , 0.        , 0.        ,\n",
              "       0.        , 0.        , 0.        , 0.        , 0.        ,\n",
              "       0.        , 0.        , 0.        , 0.        , 0.        ,\n",
              "       0.        , 0.        , 0.        , 0.        , 0.        ,\n",
              "       0.87058824, 0.99607843, 0.99607843, 0.99607843, 0.99607843,\n",
              "       0.94509804, 0.7764706 , 0.7764706 , 0.7764706 , 0.7764706 ,\n",
              "       0.7764706 , 0.7764706 , 0.7764706 , 0.7764706 , 0.6666667 ,\n",
              "       0.20392157, 0.        , 0.        , 0.        , 0.        ,\n",
              "       0.        , 0.        , 0.        , 0.        , 0.        ,\n",
              "       0.        , 0.        , 0.        , 0.2627451 , 0.44705883,\n",
              "       0.28235295, 0.44705883, 0.6392157 , 0.8901961 , 0.99607843,\n",
              "       0.88235295, 0.99607843, 0.99607843, 0.99607843, 0.98039216,\n",
              "       0.8980392 , 0.99607843, 0.99607843, 0.54901963, 0.        ,\n",
              "       0.        , 0.        , 0.        , 0.        , 0.        ,\n",
              "       0.        , 0.        , 0.        , 0.        , 0.        ,\n",
              "       0.        , 0.        , 0.        , 0.        , 0.        ,\n",
              "       0.        , 0.06666667, 0.25882354, 0.05490196, 0.2627451 ,\n",
              "       0.2627451 , 0.2627451 , 0.23137255, 0.08235294, 0.9254902 ,\n",
              "       0.99607843, 0.41568628, 0.        , 0.        , 0.        ,\n",
              "       0.        , 0.        , 0.        , 0.        , 0.        ,\n",
              "       0.        , 0.        , 0.        , 0.        , 0.        ,\n",
              "       0.        , 0.        , 0.        , 0.        , 0.        ,\n",
              "       0.        , 0.        , 0.        , 0.        , 0.        ,\n",
              "       0.        , 0.3254902 , 0.99215686, 0.81960785, 0.07058824,\n",
              "       0.        , 0.        , 0.        , 0.        , 0.        ,\n",
              "       0.        , 0.        , 0.        , 0.        , 0.        ,\n",
              "       0.        , 0.        , 0.        , 0.        , 0.        ,\n",
              "       0.        , 0.        , 0.        , 0.        , 0.        ,\n",
              "       0.        , 0.        , 0.        , 0.08627451, 0.9137255 ,\n",
              "       1.        , 0.3254902 , 0.        , 0.        , 0.        ,\n",
              "       0.        , 0.        , 0.        , 0.        , 0.        ,\n",
              "       0.        , 0.        , 0.        , 0.        , 0.        ,\n",
              "       0.        , 0.        , 0.        , 0.        , 0.        ,\n",
              "       0.        , 0.        , 0.        , 0.        , 0.        ,\n",
              "       0.        , 0.5058824 , 0.99607843, 0.93333334, 0.17254902,\n",
              "       0.        , 0.        , 0.        , 0.        , 0.        ,\n",
              "       0.        , 0.        , 0.        , 0.        , 0.        ,\n",
              "       0.        , 0.        , 0.        , 0.        , 0.        ,\n",
              "       0.        , 0.        , 0.        , 0.        , 0.        ,\n",
              "       0.        , 0.        , 0.        , 0.23137255, 0.9764706 ,\n",
              "       0.99607843, 0.24313726, 0.        , 0.        , 0.        ,\n",
              "       0.        , 0.        , 0.        , 0.        , 0.        ,\n",
              "       0.        , 0.        , 0.        , 0.        , 0.        ,\n",
              "       0.        , 0.        , 0.        , 0.        , 0.        ,\n",
              "       0.        , 0.        , 0.        , 0.        , 0.        ,\n",
              "       0.        , 0.52156866, 0.99607843, 0.73333335, 0.01960784,\n",
              "       0.        , 0.        , 0.        , 0.        , 0.        ,\n",
              "       0.        , 0.        , 0.        , 0.        , 0.        ,\n",
              "       0.        , 0.        , 0.        , 0.        , 0.        ,\n",
              "       0.        , 0.        , 0.        , 0.        , 0.        ,\n",
              "       0.        , 0.        , 0.        , 0.03529412, 0.8039216 ,\n",
              "       0.972549  , 0.22745098, 0.        , 0.        , 0.        ,\n",
              "       0.        , 0.        , 0.        , 0.        , 0.        ,\n",
              "       0.        , 0.        , 0.        , 0.        , 0.        ,\n",
              "       0.        , 0.        , 0.        , 0.        , 0.        ,\n",
              "       0.        , 0.        , 0.        , 0.        , 0.        ,\n",
              "       0.        , 0.49411765, 0.99607843, 0.7137255 , 0.        ,\n",
              "       0.        , 0.        , 0.        , 0.        , 0.        ,\n",
              "       0.        , 0.        , 0.        , 0.        , 0.        ,\n",
              "       0.        , 0.        , 0.        , 0.        , 0.        ,\n",
              "       0.        , 0.        , 0.        , 0.        , 0.        ,\n",
              "       0.        , 0.        , 0.        , 0.29411766, 0.9843137 ,\n",
              "       0.9411765 , 0.22352941, 0.        , 0.        , 0.        ,\n",
              "       0.        , 0.        , 0.        , 0.        , 0.        ,\n",
              "       0.        , 0.        , 0.        , 0.        , 0.        ,\n",
              "       0.        , 0.        , 0.        , 0.        , 0.        ,\n",
              "       0.        , 0.        , 0.        , 0.        , 0.        ,\n",
              "       0.07450981, 0.8666667 , 0.99607843, 0.6509804 , 0.        ,\n",
              "       0.        , 0.        , 0.        , 0.        , 0.        ,\n",
              "       0.        , 0.        , 0.        , 0.        , 0.        ,\n",
              "       0.        , 0.        , 0.        , 0.        , 0.        ,\n",
              "       0.        , 0.        , 0.        , 0.        , 0.        ,\n",
              "       0.        , 0.        , 0.01176471, 0.79607844, 0.99607843,\n",
              "       0.85882354, 0.13725491, 0.        , 0.        , 0.        ,\n",
              "       0.        , 0.        , 0.        , 0.        , 0.        ,\n",
              "       0.        , 0.        , 0.        , 0.        , 0.        ,\n",
              "       0.        , 0.        , 0.        , 0.        , 0.        ,\n",
              "       0.        , 0.        , 0.        , 0.        , 0.        ,\n",
              "       0.14901961, 0.99607843, 0.99607843, 0.3019608 , 0.        ,\n",
              "       0.        , 0.        , 0.        , 0.        , 0.        ,\n",
              "       0.        , 0.        , 0.        , 0.        , 0.        ,\n",
              "       0.        , 0.        , 0.        , 0.        , 0.        ,\n",
              "       0.        , 0.        , 0.        , 0.        , 0.        ,\n",
              "       0.        , 0.        , 0.12156863, 0.8784314 , 0.99607843,\n",
              "       0.4509804 , 0.00392157, 0.        , 0.        , 0.        ,\n",
              "       0.        , 0.        , 0.        , 0.        , 0.        ,\n",
              "       0.        , 0.        , 0.        , 0.        , 0.        ,\n",
              "       0.        , 0.        , 0.        , 0.        , 0.        ,\n",
              "       0.        , 0.        , 0.        , 0.        , 0.        ,\n",
              "       0.52156866, 0.99607843, 0.99607843, 0.20392157, 0.        ,\n",
              "       0.        , 0.        , 0.        , 0.        , 0.        ,\n",
              "       0.        , 0.        , 0.        , 0.        , 0.        ,\n",
              "       0.        , 0.        , 0.        , 0.        , 0.        ,\n",
              "       0.        , 0.        , 0.        , 0.        , 0.        ,\n",
              "       0.        , 0.        , 0.23921569, 0.9490196 , 0.99607843,\n",
              "       0.99607843, 0.20392157, 0.        , 0.        , 0.        ,\n",
              "       0.        , 0.        , 0.        , 0.        , 0.        ,\n",
              "       0.        , 0.        , 0.        , 0.        , 0.        ,\n",
              "       0.        , 0.        , 0.        , 0.        , 0.        ,\n",
              "       0.        , 0.        , 0.        , 0.        , 0.        ,\n",
              "       0.4745098 , 0.99607843, 0.99607843, 0.85882354, 0.15686275,\n",
              "       0.        , 0.        , 0.        , 0.        , 0.        ,\n",
              "       0.        , 0.        , 0.        , 0.        , 0.        ,\n",
              "       0.        , 0.        , 0.        , 0.        , 0.        ,\n",
              "       0.        , 0.        , 0.        , 0.        , 0.        ,\n",
              "       0.        , 0.        , 0.        , 0.4745098 , 0.99607843,\n",
              "       0.8117647 , 0.07058824, 0.        , 0.        , 0.        ,\n",
              "       0.        , 0.        , 0.        , 0.        , 0.        ,\n",
              "       0.        , 0.        , 0.        , 0.        , 0.        ,\n",
              "       0.        , 0.        , 0.        , 0.        , 0.        ,\n",
              "       0.        , 0.        , 0.        , 0.        , 0.        ,\n",
              "       0.        , 0.        , 0.        , 0.        , 0.        ,\n",
              "       0.        , 0.        , 0.        , 0.        , 0.        ,\n",
              "       0.        , 0.        , 0.        , 0.        , 0.        ,\n",
              "       0.        , 0.        , 0.        , 0.        ], dtype=float32)"
            ]
          },
          "metadata": {},
          "execution_count": 48
        }
      ]
    },
    {
      "cell_type": "code",
      "source": [
        "# 원본데이터\n",
        "# (784, ) -> NHWC, HWC\n",
        "nums.shape"
      ],
      "metadata": {
        "colab": {
          "base_uri": "https://localhost:8080/"
        },
        "id": "vllXVyWm0_x7",
        "outputId": "b891e7fc-0a1c-4bd3-8e03-85aef324f2dc"
      },
      "execution_count": null,
      "outputs": [
        {
          "output_type": "execute_result",
          "data": {
            "text/plain": [
              "(784,)"
            ]
          },
          "metadata": {},
          "execution_count": 49
        }
      ]
    },
    {
      "cell_type": "code",
      "source": [
        "nums = nums.reshape( -1, PIXEL_H, PIXEL_W, 1 )\n",
        "nums.shape"
      ],
      "metadata": {
        "colab": {
          "base_uri": "https://localhost:8080/"
        },
        "id": "58zjdIKO1c-X",
        "outputId": "943c9440-c55a-4116-e8e0-d01e77a924d8"
      },
      "execution_count": null,
      "outputs": [
        {
          "output_type": "execute_result",
          "data": {
            "text/plain": [
              "(1, 28, 28, 1)"
            ]
          },
          "metadata": {},
          "execution_count": 51
        }
      ]
    },
    {
      "cell_type": "code",
      "source": [
        "y_pred = loadedModel.predict( nums )\n",
        "y_pred"
      ],
      "metadata": {
        "colab": {
          "base_uri": "https://localhost:8080/"
        },
        "id": "hB5_1kd-0WsT",
        "outputId": "f80d1093-ea13-4ce1-f73a-ecd03947e309"
      },
      "execution_count": null,
      "outputs": [
        {
          "output_type": "execute_result",
          "data": {
            "text/plain": [
              "array([[4.4417020e-10, 1.5466971e-09, 7.9157211e-08, 1.5773182e-08,\n",
              "        2.0541024e-11, 1.1194454e-10, 1.1422060e-14, 9.9999964e-01,\n",
              "        3.2188552e-10, 1.9720906e-07]], dtype=float32)"
            ]
          },
          "metadata": {},
          "execution_count": 53
        }
      ]
    },
    {
      "cell_type": "code",
      "source": [
        "# 예측값은 0 ~ 9까지 예측 결과를 확률로 제공 -> 가장 높은 값을 가진 확률 위치 찾아서(인덱스) -> 그 인덱스\n",
        "# 에 해당하는 결과를 획득\n",
        "# 가장 높은 값을 가진 인덱스,를 구하는 방법? -> np.argmax\n",
        "y_pred.shape"
      ],
      "metadata": {
        "colab": {
          "base_uri": "https://localhost:8080/"
        },
        "id": "nmiNGpNZ1oGz",
        "outputId": "c91608cb-93ad-4ade-9923-aaf33fd028fb"
      },
      "execution_count": null,
      "outputs": [
        {
          "output_type": "execute_result",
          "data": {
            "text/plain": [
              "(1, 10)"
            ]
          },
          "metadata": {},
          "execution_count": 54
        }
      ]
    },
    {
      "cell_type": "code",
      "source": [
        "# 인덱스 7번 -> 실제 몇번값인가?\n",
        "np.argmax( y_pred )\n",
        "# 여기서는 인덱스와 실제값이 동일 -> 예측 결과는 7"
      ],
      "metadata": {
        "colab": {
          "base_uri": "https://localhost:8080/"
        },
        "id": "z-cBRTDH1wZL",
        "outputId": "7135dd9e-5443-41ee-d4da-ba52779ebff8"
      },
      "execution_count": null,
      "outputs": [
        {
          "output_type": "execute_result",
          "data": {
            "text/plain": [
              "7"
            ]
          },
          "metadata": {},
          "execution_count": 55
        }
      ]
    },
    {
      "cell_type": "code",
      "source": [
        "# 0, 1, 2, 3, .... 9\n",
        "# 0, 1, 2,"
      ],
      "metadata": {
        "id": "L4hzcQOD2LL9"
      },
      "execution_count": null,
      "outputs": []
    },
    {
      "cell_type": "markdown",
      "source": [
        "# 모델 정보 확인"
      ],
      "metadata": {
        "id": "AtjfdY1g3F1K"
      }
    },
    {
      "cell_type": "code",
      "source": [
        "model.summary()\n",
        "# shape의 변화 확인 가능\n",
        "# 학습시 찾아야할 최적 파라미터 개수 : 3,274,634 => 가중치 개수\n",
        "# 망의 구조(레이어 배치)"
      ],
      "metadata": {
        "colab": {
          "base_uri": "https://localhost:8080/"
        },
        "id": "35Mi3QKK3KEb",
        "outputId": "ecb4ede8-9aec-481c-c41b-b11a741cb9d3"
      },
      "execution_count": null,
      "outputs": [
        {
          "output_type": "stream",
          "name": "stdout",
          "text": [
            "Model: \"sequential\"\n",
            "_________________________________________________________________\n",
            " Layer (type)                Output Shape              Param #   \n",
            "=================================================================\n",
            " conv2d (Conv2D)             (None, 28, 28, 32)        832       \n",
            "                                                                 \n",
            " max_pooling2d (MaxPooling2D  (None, 14, 14, 32)       0         \n",
            " )                                                               \n",
            "                                                                 \n",
            " dropout (Dropout)           (None, 14, 14, 32)        0         \n",
            "                                                                 \n",
            " conv2d_1 (Conv2D)           (None, 14, 14, 64)        51264     \n",
            "                                                                 \n",
            " max_pooling2d_1 (MaxPooling  (None, 7, 7, 64)         0         \n",
            " 2D)                                                             \n",
            "                                                                 \n",
            " dropout_1 (Dropout)         (None, 7, 7, 64)          0         \n",
            "                                                                 \n",
            " flatten (Flatten)           (None, 3136)              0         \n",
            "                                                                 \n",
            " dense (Dense)               (None, 1024)              3212288   \n",
            "                                                                 \n",
            " dropout_2 (Dropout)         (None, 1024)              0         \n",
            "                                                                 \n",
            " dense_1 (Dense)             (None, 10)                10250     \n",
            "                                                                 \n",
            "=================================================================\n",
            "Total params: 3,274,634\n",
            "Trainable params: 3,274,634\n",
            "Non-trainable params: 0\n",
            "_________________________________________________________________\n"
          ]
        }
      ]
    },
    {
      "cell_type": "code",
      "source": [
        "tf.keras.utils.plot_model(model, to_file='model.png',\n",
        "                          show_shapes=True, show_layer_names=True)"
      ],
      "metadata": {
        "colab": {
          "base_uri": "https://localhost:8080/",
          "height": 1000
        },
        "id": "TcApMoZ-3OkK",
        "outputId": "ec327507-6666-4b7c-8bfc-04debd551222"
      },
      "execution_count": null,
      "outputs": [
        {
          "output_type": "execute_result",
          "data": {
            "text/plain": [
              "<IPython.core.display.Image object>"
            ],
            "image/png": "[encoded data removed]"
          },
          "metadata": {},
          "execution_count": 57
        }
      ]
    },
    {
      "cell_type": "code",
      "source": [
        "model.save_weights('mnist_cnn.weight')"
      ],
      "metadata": {
        "id": "YMIqUyhZ3_Jf"
      },
      "execution_count": null,
      "outputs": []
    },
    {
      "cell_type": "code",
      "source": [],
      "metadata": {
        "id": "fFFab5FF4TIY"
      },
      "execution_count": null,
      "outputs": []
    }
  ]
}